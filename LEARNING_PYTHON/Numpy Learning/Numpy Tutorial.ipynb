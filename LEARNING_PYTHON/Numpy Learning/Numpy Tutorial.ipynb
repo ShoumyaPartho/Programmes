{
 "cells": [
  {
   "cell_type": "markdown",
   "id": "e28872de",
   "metadata": {},
   "source": [
    "# Welcome to Numpy tutorial"
   ]
  },
  {
   "cell_type": "code",
   "execution_count": 1,
   "id": "d92d891c",
   "metadata": {},
   "outputs": [],
   "source": [
    "import numpy as np"
   ]
  },
  {
   "cell_type": "code",
   "execution_count": 4,
   "id": "0cad3c42",
   "metadata": {},
   "outputs": [],
   "source": [
    "myara = np.array([3,6,45],np.int8)"
   ]
  },
  {
   "cell_type": "code",
   "execution_count": 5,
   "id": "25fcd03a",
   "metadata": {},
   "outputs": [
    {
     "data": {
      "text/plain": [
       "array([ 3,  6, 45], dtype=int8)"
      ]
     },
     "execution_count": 5,
     "metadata": {},
     "output_type": "execute_result"
    }
   ],
   "source": [
    "myara"
   ]
  },
  {
   "cell_type": "code",
   "execution_count": 8,
   "id": "a35119dd",
   "metadata": {},
   "outputs": [
    {
     "data": {
      "text/plain": [
       "3"
      ]
     },
     "execution_count": 8,
     "metadata": {},
     "output_type": "execute_result"
    }
   ],
   "source": [
    "myara[-0]"
   ]
  },
  {
   "cell_type": "code",
   "execution_count": 9,
   "id": "a0134d3d",
   "metadata": {},
   "outputs": [
    {
     "data": {
      "text/plain": [
       "dtype('int8')"
      ]
     },
     "execution_count": 9,
     "metadata": {},
     "output_type": "execute_result"
    }
   ],
   "source": [
    "myara.dtype"
   ]
  },
  {
   "cell_type": "code",
   "execution_count": null,
   "id": "6c015eef",
   "metadata": {},
   "outputs": [],
   "source": []
  }
 ],
 "metadata": {
  "kernelspec": {
   "display_name": "Python 3 (ipykernel)",
   "language": "python",
   "name": "python3"
  },
  "language_info": {
   "codemirror_mode": {
    "name": "ipython",
    "version": 3
   },
   "file_extension": ".py",
   "mimetype": "text/x-python",
   "name": "python",
   "nbconvert_exporter": "python",
   "pygments_lexer": "ipython3",
   "version": "3.10.8"
  }
 },
 "nbformat": 4,
 "nbformat_minor": 5
}
